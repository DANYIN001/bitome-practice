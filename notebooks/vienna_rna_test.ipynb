{
 "cells": [
  {
   "cell_type": "markdown",
   "metadata": {},
   "source": [
    "# Vienna RNA Package Testing\n",
    "\n",
    "This notebook provides simple implementations of the RNA secondary structure prediction capabilities offered by the ViennaRNA Package Version 2.\n",
    "\n",
    "Many of these examples are taken directly from the package's documentation:\n",
    "- API reference: https://www.tbi.univie.ac.at/RNA/ViennaRNA/doc/html/index.html\n",
    "- Script Interface Documentation: https://www.tbi.univie.ac.at/RNA/ViennaRNA/doc/html/wrappers.html\n",
    "- Python Examples: https://www.tbi.univie.ac.at/RNA/ViennaRNA/doc/html/examples_python.html"
   ]
  },
  {
   "cell_type": "markdown",
   "metadata": {},
   "source": [
    "## Setup"
   ]
  },
  {
   "cell_type": "markdown",
   "metadata": {},
   "source": [
    "### Import Required Packages"
   ]
  },
  {
   "cell_type": "code",
   "execution_count": 1,
   "metadata": {},
   "outputs": [],
   "source": [
    "# built-in packages\n",
    "import sys\n",
    "\n",
    "# third-party packages\n",
    "import Bio.SeqIO\n",
    "\n",
    "# the Vienna RNA python package is automatically installed in a particular directory\n",
    "# ensure that that directory is on Python's path\n",
    "VIENNA_DIR = '/usr/local/lib/python3.7/site-packages'\n",
    "sys.path.append(VIENNA_DIR)\n",
    "import RNA"
   ]
  },
  {
   "cell_type": "markdown",
   "metadata": {},
   "source": [
    "### Load Example Sequence"
   ]
  },
  {
   "cell_type": "code",
   "execution_count": 2,
   "metadata": {},
   "outputs": [],
   "source": [
    "# load the PGI gene's FASTA file to use as an example sequence\n",
    "pgi_seq_record = Bio.SeqIO.read('pgi.fasta', 'fasta')\n",
    "example_seq = str(pgi_seq_record.seq)[:25]"
   ]
  },
  {
   "cell_type": "markdown",
   "metadata": {},
   "source": [
    "## Basic Calculations\n",
    "\n",
    "Also shows off different plotting capabilities"
   ]
  },
  {
   "cell_type": "markdown",
   "metadata": {},
   "source": [
    "### Minimum Free Energy Structure"
   ]
  },
  {
   "cell_type": "code",
   "execution_count": 3,
   "metadata": {
    "scrolled": false
   },
   "outputs": [
    {
     "name": "stdout",
     "output_type": "stream",
     "text": [
      "GGATCTGGCGAAAGAGTGCGATCTG\n",
      "(((((..((......))..))))). [ -6.80 kcal/mol]\n"
     ]
    }
   ],
   "source": [
    "# compute minimum free energy (MFE) and corresponding structure\n",
    "fc = RNA.fold_compound(example_seq)\n",
    "# compute minimum free energy (mfe) and corresponding structure\n",
    "(ss, mfe) = fc.mfe()\n",
    "RNA.svg_rna_plot(example_seq, ss, 'mfe.svg')\n",
    "print(f'{example_seq}\\n{ss} [ {mfe:.2f} kcal/mol]')"
   ]
  },
  {
   "cell_type": "markdown",
   "metadata": {},
   "source": [
    "<img src=\"mfe.svg\">"
   ]
  },
  {
   "cell_type": "code",
   "execution_count": 4,
   "metadata": {},
   "outputs": [
    {
     "name": "stdout",
     "output_type": "stream",
     "text": [
      "External loop                           :   -20\n",
      "\n",
      "Interior loop (  1, 24) GT; (  2, 23) GC:  -210\n",
      "\n",
      "Interior loop (  2, 23) GC; (  3, 22) AT:  -240\n",
      "\n",
      "Interior loop (  3, 22) AT; (  4, 21) TA:  -110\n",
      "\n",
      "Interior loop (  4, 21) TA; (  5, 20) CG:  -240\n",
      "\n",
      "Interior loop (  5, 20) CG; (  8, 17) GT:    80\n",
      "\n",
      "Interior loop (  8, 17) GT; (  9, 16) CG:  -250\n",
      "\n",
      "Hairpin  loop (  9, 16) CG              :   310\n",
      "\n"
     ]
    }
   ],
   "source": [
    "with open('loop_energies.txt', 'w', encoding='utf-8') as fwrite:\n",
    "    ss_mfe = fc.eval_structure_verbose(ss, fwrite)\n",
    "\n",
    "\n",
    "with open('loop_energies.txt', 'r') as fread:\n",
    "    for line in fread:\n",
    "        print(line)"
   ]
  },
  {
   "cell_type": "markdown",
   "metadata": {},
   "source": [
    "### MFE for Multiple Sequences"
   ]
  },
  {
   "cell_type": "code",
   "execution_count": 5,
   "metadata": {
    "scrolled": false
   },
   "outputs": [
    {
     "name": "stdout",
     "output_type": "stream",
     "text": [
      "CUGCCUCACAACAUUUGUGCCUCAGUUACCCAUAGAUGUAGUGAGGGU\n",
      "...((((((.(((((((((...........))))))))).)))))).. [ -10.86 ]\n"
     ]
    }
   ],
   "source": [
    "sequences = [\n",
    "    \"CUGCCUCACAACGUUUGUGCCUCAGUUACCCGUAGAUGUAGUGAGGGU\",\n",
    "    \"CUGCCUCACAACAUUUGUGCCUCAGUUACUCAUAGAUGUAGUGAGGGU\",\n",
    "    \"---CUCGACACCACU---GCCUCGGUUACCCAUCGGUGCAGUGCGGGU\"\n",
    "]\n",
    "# compute the consensus sequence\n",
    "cons = RNA.consensus(sequences)\n",
    "\n",
    "# predict Minmum Free Energy and corresponding secondary structure\n",
    "(ss, mfe) = RNA.alifold(sequences)\n",
    "\n",
    "RNA.file_PS_aln('mfe_aln.ps', sequences, ['s1', 's2', 's3'], ss, 0)\n",
    "\n",
    "# print output\n",
    "print(\"%s\\n%s [ %6.2f ]\" % (cons, ss, mfe))"
   ]
  },
  {
   "cell_type": "markdown",
   "metadata": {},
   "source": [
    "<img src=\"mfe_aln.png\">"
   ]
  },
  {
   "cell_type": "markdown",
   "metadata": {},
   "source": [
    "### Changing Defaults"
   ]
  },
  {
   "cell_type": "code",
   "execution_count": 6,
   "metadata": {},
   "outputs": [
    {
     "name": "stdout",
     "output_type": "stream",
     "text": [
      "GAGUAGUGGAACCAGGCUAUGUUUGUGACUCGCAGACUAACA\n",
      "..(((((........)))))(((((((...)))))))..... [ -13.43 ]\n",
      "\n"
     ]
    }
   ],
   "source": [
    "# The RNA sequence\n",
    "seq = \"GAGUAGUGGAACCAGGCUAUGUUUGUGACUCGCAGACUAACA\"\n",
    "# create a new model details structure\n",
    "md = RNA.md()\n",
    "# change temperature and dangle model\n",
    "md.temperature = 20.0 # 20 Deg Celcius\n",
    "md.dangles     = 1    # Dangle Model 1\n",
    "# create a fold compound\n",
    "fc = RNA.fold_compound(seq, md)\n",
    "# predict Minmum Free Energy and corresponding secondary structure\n",
    "(ss, mfe) = fc.mfe()\n",
    "# print sequence, structure and MFE\n",
    "print(\"%s\\n%s [ %6.2f ]\\n\" % (seq, ss, mfe))"
   ]
  },
  {
   "cell_type": "markdown",
   "metadata": {},
   "source": [
    "### Suboptimal Structure Prediction"
   ]
  },
  {
   "cell_type": "code",
   "execution_count": 7,
   "metadata": {
    "scrolled": true
   },
   "outputs": [
    {
     "name": "stdout",
     "output_type": "stream",
     "text": [
      ">subopt 1\n",
      "GGATCTGGCGAAAGAGTGCGATCTG\n",
      "((.((..((......))..)).)). [ -2.10]\n",
      ">subopt 2\n",
      "GGATCTGGCGAAAGAGTGCGATCTG\n",
      "(((..(.(((......))).)))). [ -2.00]\n",
      ">subopt 3\n",
      "GGATCTGGCGAAAGAGTGCGATCTG\n",
      "(((.(..((......))..).))). [ -2.10]\n",
      ">subopt 4\n",
      "GGATCTGGCGAAAGAGTGCGATCTG\n",
      "((((...((......))...)))). [ -2.80]\n",
      ">subopt 5\n",
      "GGATCTGGCGAAAGAGTGCGATCTG\n",
      "((((...((........)).)))). [ -2.20]\n",
      ">subopt 6\n",
      "GGATCTGGCGAAAGAGTGCGATCTG\n",
      "((((...(((......))).)))). [ -2.50]\n",
      ">subopt 7\n",
      "GGATCTGGCGAAAGAGTGCGATCTG\n",
      "((((.((((......)).)))))). [ -1.80]\n",
      ">subopt 8\n",
      "GGATCTGGCGAAAGAGTGCGATCTG\n",
      "(((((..............))))). [ -2.70]\n",
      ">subopt 9\n",
      "GGATCTGGCGAAAGAGTGCGATCTG\n",
      "(((((...(....).....))))). [ -2.20]\n",
      ">subopt 10\n",
      "GGATCTGGCGAAAGAGTGCGATCTG\n",
      "(((((...(......)...))))). [ -3.10]\n",
      ">subopt 11\n",
      "GGATCTGGCGAAAGAGTGCGATCTG\n",
      "(((((...(........).))))). [ -1.90]\n",
      ">subopt 12\n",
      "GGATCTGGCGAAAGAGTGCGATCTG\n",
      "(((((...((......)).))))). [ -2.20]\n",
      ">subopt 13\n",
      "GGATCTGGCGAAAGAGTGCGATCTG\n",
      "(((((..(........)..))))). [ -2.00]\n",
      ">subopt 14\n",
      "GGATCTGGCGAAAGAGTGCGATCTG\n",
      "(((((..((......))..))))). [ -6.80]\n",
      ">subopt 15\n",
      "GGATCTGGCGAAAGAGTGCGATCTG\n",
      "(((((..((........))))))). [ -4.80]\n",
      ">subopt 16\n",
      "GGATCTGGCGAAAGAGTGCGATCTG\n",
      "(((((..(((......)))))))). [ -5.10]\n",
      ">subopt 17\n",
      "GGATCTGGCGAAAGAGTGCGATCTG\n",
      "(((((.(...........)))))). [ -2.40]\n",
      ">subopt 18\n",
      "GGATCTGGCGAAAGAGTGCGATCTG\n",
      "(((((.(.(......)..)))))). [ -2.60]\n",
      ">subopt 19\n",
      "GGATCTGGCGAAAGAGTGCGATCTG\n",
      "(((((.(.(........))))))). [ -2.40]\n",
      ">subopt 20\n",
      "GGATCTGGCGAAAGAGTGCGATCTG\n",
      "(((((.(.((......)))))))). [ -2.70]\n",
      ">subopt 21\n",
      "GGATCTGGCGAAAGAGTGCGATCTG\n",
      "(((((.(((......)).)))))). [ -3.90]\n",
      ">subopt 22\n",
      "GGATCTGGCGAAAGAGTGCGATCTG\n",
      "((((((.((......))).))))). [ -1.80]\n",
      ">subopt 23\n",
      "GGATCTGGCGAAAGAGTGCGATCTG\n",
      "(((((((.(......))).))))). [ -1.80]\n",
      ">subopt 24\n",
      "GGATCTGGCGAAAGAGTGCGATCTG\n",
      "(.(((..((......))..)))).. [ -1.90]\n",
      ">subopt 25\n",
      "GGATCTGGCGAAAGAGTGCGATCTG\n",
      ".((((...(......)...)))).. [ -1.80]\n",
      ">subopt 26\n",
      "GGATCTGGCGAAAGAGTGCGATCTG\n",
      ".((((..((......))..)))).. [ -5.50]\n",
      ">subopt 27\n",
      "GGATCTGGCGAAAGAGTGCGATCTG\n",
      ".((((..((........)))))).. [ -3.50]\n",
      ">subopt 28\n",
      "GGATCTGGCGAAAGAGTGCGATCTG\n",
      ".((((..(((......))))))).. [ -3.80]\n",
      ">subopt 29\n",
      "GGATCTGGCGAAAGAGTGCGATCTG\n",
      ".((((.(((......)).))))).. [ -2.60]\n",
      ">subopt 30\n",
      "GGATCTGGCGAAAGAGTGCGATCTG\n",
      "..(((..((......))..)))... [ -2.30]\n"
     ]
    }
   ],
   "source": [
    "# Set global switch for unique ML decomposition\n",
    "RNA.cvar.uniq_ML = 1\n",
    "\n",
    "subopt_data = {'counter': 1, 'sequence': example_seq}\n",
    "\n",
    "# Print a subopt result as FASTA record\n",
    "def print_subopt_result(structure, energy, data):\n",
    "    if not structure == None:\n",
    "        print(\">subopt %d\" % data['counter'])\n",
    "        print(\"%s\" % data['sequence'])\n",
    "        print(\"%s [%6.2f]\" % (structure, energy))\n",
    "        # increase structure counter\n",
    "        data['counter'] = data['counter'] + 1\n",
    "\n",
    "# Create a 'fold_compound' for our sequence\n",
    "fold_comp = RNA.fold_compound(example_seq)\n",
    "\n",
    "# Enumerate all structures 500 dacal/mol = 5 kcal/mol arround\n",
    "# the MFE and print each structure using the function above\n",
    "fold_comp.subopt_cb(500, print_subopt_result, subopt_data)"
   ]
  },
  {
   "cell_type": "markdown",
   "metadata": {},
   "source": [
    "### RNAfold -p –MEA equivalent "
   ]
  },
  {
   "cell_type": "code",
   "execution_count": 8,
   "metadata": {},
   "outputs": [
    {
     "name": "stdout",
     "output_type": "stream",
     "text": [
      "AUUUCCACUAGAGAAGGUCUAGAGUGUUUGUCGUUUGUCAGAAGUCCCUAUUCCAGGUACGAACACGGUGGAUAUGUUCGACGACAGGAUCGGCGCACUA\n",
      ".......(((((.....)))))(((((..((((((((((.......(((.....)))..((((((.........))))))..))))))..))))))))). (-22.20)\n",
      ".......(((((.....)))))(((((..(((({(((((.,..{,,{{{..,{.|,|,.{{{{{{,...,},,.})})))}})))))}..))))))))). [-24.66]\n",
      ".......(((((.....)))))(((((..((((.(((((.....................((((...........))))...)))))...))))))))). {-15.20 d=14.12}\n",
      ".......(((((.....)))))(((((..((((.(((((.......(.........)..((((((.........))))))..)))))...))))))))). {-16.60 MEA=75.49}\n",
      " frequency of mfe structure in ensemble 0.0183287; ensemble diversity 22.18 \n"
     ]
    }
   ],
   "source": [
    "seq = \"AUUUCCACUAGAGAAGGUCUAGAGUGUUUGUCGUUUGUCAGAAGUCCCUAUUCCAGGUACGAACACGGUGGAUAUGUUCGACGACAGGAUCGGCGCACUA\"\n",
    "# create fold_compound data structure (required for all subsequently applied  algorithms)\n",
    "fc = RNA.fold_compound(seq)\n",
    "# compute MFE and MFE structure\n",
    "(mfe_struct, mfe) = fc.mfe()\n",
    "# rescale Boltzmann factors for partition function computation\n",
    "fc.exp_params_rescale(mfe)\n",
    "# compute partition function\n",
    "(pp, pf) = fc.pf()\n",
    "# compute centroid structure\n",
    "(centroid_struct, dist) = fc.centroid()\n",
    "# compute free energy of centroid structure\n",
    "centroid_en = fc.eval_structure(centroid_struct)\n",
    "# compute MEA structure\n",
    "(MEA_struct, MEA) = fc.MEA()\n",
    "# compute free energy of MEA structure\n",
    "MEA_en = fc.eval_structure(MEA_struct)\n",
    "# print everything like RNAfold -p --MEA\n",
    "print(\"%s\\n%s (%6.2f)\" % (seq, mfe_struct, mfe))\n",
    "print(\"%s [%6.2f]\" % (pp, pf))\n",
    "print(\"%s {%6.2f d=%.2f}\" % (centroid_struct, centroid_en, dist))\n",
    "print(\"%s {%6.2f MEA=%.2f}\" % (MEA_struct, MEA_en, MEA))\n",
    "print(\" frequency of mfe structure in ensemble %g; ensemble diversity %-6.2f\" % (fc.pr_structure(mfe_struct), fc.mean_bp_distance()))"
   ]
  }
 ],
 "metadata": {
  "kernelspec": {
   "display_name": "Python 3",
   "language": "python",
   "name": "python3"
  },
  "language_info": {
   "codemirror_mode": {
    "name": "ipython",
    "version": 3
   },
   "file_extension": ".py",
   "mimetype": "text/x-python",
   "name": "python",
   "nbconvert_exporter": "python",
   "pygments_lexer": "ipython3",
   "version": "3.7.7"
  }
 },
 "nbformat": 4,
 "nbformat_minor": 4
}
